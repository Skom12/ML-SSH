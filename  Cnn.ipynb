{
 "cells": [
  {
   "cell_type": "code",
   "execution_count": 1,
   "id": "e18158d6-6c90-48f4-8103-fe4b83a727f9",
   "metadata": {},
   "outputs": [],
   "source": [
    "import torch\n",
    "import torch.nn as nn\n",
    "import torch.optim as optim\n",
    "import torch.nn.functional as F\n",
    "from sklearn.metrics import f1_score  "
   ]
  },
  {
   "cell_type": "code",
   "execution_count": 5,
   "id": "2da6a043-54be-4455-acb7-eae930e5cc99",
   "metadata": {},
   "outputs": [],
   "source": [
    "class classifier(nn.ModuleList):\n",
    "    def __init__(self):\n",
    "        super(classifier, self).__init__()\n",
    "        self.num_words = 7584901\n",
    "        self.embedding_size =64\n",
    "        self.seq_len = 200\n",
    "        self.hidden_dim=128\n",
    "        \n",
    "        self.dropout=nn.Dropout(0.5)\n",
    "        self.embeddings=nn.Embedding(self.num_words+1, self.embedding_size)\n",
    "        self.flatten=nn.Flatten()\n",
    "        \n",
    "        self.kernel_1=2\n",
    "        self.kernel_2=4\n",
    "\n",
    "        \n",
    "        \n",
    "        self.stride = 2\n",
    "        \n",
    "        self.conv1 =nn.Conv1d(self.seq_len, self.hidden_dim, self.kernel_1, self.stride)\n",
    "        self.conv2 =nn.Conv1d(self.hidden_dim, self.hidden_dim, self.kernel_2, self.stride)\n",
    "\n",
    "        \n",
    "        self.pool_1 = nn.MaxPool1d(self.kernel_1, self.stride)\n",
    "        self.pool_2 = nn.MaxPool1d(self.kernel_2, self.stride)\n",
    "        \n",
    "        self.fc1 = nn.Linear(256, 1)\n",
    "        \n",
    "\n",
    "\n",
    "        \n",
    "    def forward(self,x):\n",
    "        \n",
    "\n",
    "        x=self.embeddings(x)\n",
    "\n",
    "        out=self.conv1(x)\n",
    "        out=torch.relu(out)\n",
    "        out=self.pool_1(out)\n",
    "        out=self.dropout(out)\n",
    "\n",
    "        out=self.conv2(out)\n",
    "        out=torch.relu(out)\n",
    "        out=self.pool_2(out)\n",
    "        out=self.dropout(out)\n",
    "        \n",
    "        out=self.flatten(out)\n",
    "\n",
    "        out=self.fc1(out)\n",
    "     \n",
    "        out=torch.sigmoid(out)\n",
    "\n",
    "        return out.squeeze()\n",
    "        \n",
    "        \n",
    "        \n",
    "        \n",
    "        \n",
    "        \n",
    "        "
   ]
  },
  {
   "cell_type": "code",
   "execution_count": 3,
   "id": "54b49a05-d933-4465-b620-2e364a5c9022",
   "metadata": {},
   "outputs": [],
   "source": [
    "model=classifier()"
   ]
  },
  {
   "cell_type": "code",
   "execution_count": null,
   "id": "f53d5350-8954-4a59-91ac-a2ced95d8184",
   "metadata": {},
   "outputs": [],
   "source": []
  }
 ],
 "metadata": {
  "kernelspec": {
   "display_name": "Python [conda env:myenv]",
   "language": "python",
   "name": "conda-env-myenv-py"
  },
  "language_info": {
   "codemirror_mode": {
    "name": "ipython",
    "version": 3
   },
   "file_extension": ".py",
   "mimetype": "text/x-python",
   "name": "python",
   "nbconvert_exporter": "python",
   "pygments_lexer": "ipython3",
   "version": "3.9.13"
  }
 },
 "nbformat": 4,
 "nbformat_minor": 5
}
